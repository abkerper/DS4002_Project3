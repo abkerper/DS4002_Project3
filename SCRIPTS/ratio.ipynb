{
 "cells": [
  {
   "cell_type": "code",
   "execution_count": null,
   "metadata": {},
   "outputs": [],
   "source": [
    "import os\n",
    "import csv\n",
    "import numpy as np\n",
    "\n",
    "def read_ratio_from_file(file_path):\n",
    "    with open(file_path, 'r') as f:\n",
    "        content = f.read().strip()\n",
    "        if content.startswith(\"Beak-to-Body Ratio:\"):\n",
    "            return float(content.split(\":\")[1].strip())\n",
    "    return None  \n",
    "\n",
    "def compute_mean_ratios(ratio_dir):\n",
    "    bird_ratios = {}  \n",
    "    bird_counts = {}  \n",
    "    for root, dirs, files in os.walk(ratio_dir):\n",
    "        for file in files:\n",
    "            if file.endswith('_ratio.txt'):\n",
    "                bird_species = root.split(os.path.sep)[-1]  \n",
    "                ratio_file_path = os.path.join(root, file)\n",
    "                ratio = read_ratio_from_file(ratio_file_path)\n",
    "\n",
    "                if ratio is not None:\n",
    "                    if bird_species not in bird_ratios:\n",
    "                        bird_ratios[bird_species] = []\n",
    "                        bird_counts[bird_species] = 0\n",
    "                    bird_ratios[bird_species].append(ratio)\n",
    "                    bird_counts[bird_species] += 1\n",
    "\n",
    "    bird_mean_ratios = []\n",
    "    for species, ratios in bird_ratios.items():\n",
    "        mean_ratio = np.mean(ratios)\n",
    "        bird_mean_ratios.append((species, mean_ratio))\n",
    "\n",
    "    return bird_mean_ratios\n",
    "\n",
    "def save_ratios_to_csv(bird_mean_ratios, output_file):\n",
    "    with open(output_file, mode='w', newline='') as file:\n",
    "        writer = csv.writer(file)\n",
    "        writer.writerow(['bird_species', 'mean_beak_to_body_ratio'])\n",
    "        for species, mean_ratio in bird_mean_ratios:\n",
    "            writer.writerow([species, mean_ratio])\n",
    "    \n",
    "    print(f\"Mean ratios saved to {output_file}\")\n",
    "\n"
   ]
  },
  {
   "cell_type": "code",
   "execution_count": null,
   "metadata": {},
   "outputs": [
    {
     "name": "stdout",
     "output_type": "stream",
     "text": [
      "Mean ratios saved to bird_beak_to_body_ratios.csv\n"
     ]
    }
   ],
   "source": [
    "ratio_dir = 'segmentations/ratios'\n",
    "bird_mean_ratios = compute_mean_ratios(ratio_dir)\n",
    "output_file = 'bird_beak_to_body_ratios.csv'\n",
    "save_ratios_to_csv(bird_mean_ratios, output_file)"
   ]
  },
  {
   "cell_type": "code",
   "execution_count": null,
   "metadata": {},
   "outputs": [
    {
     "name": "stdout",
     "output_type": "stream",
     "text": [
      "Median ratios saved to bird_beak_to_body_medians.csv\n"
     ]
    }
   ],
   "source": [
    "import os\n",
    "import csv\n",
    "import numpy as np\n",
    "\n",
    "def read_ratio_from_file(file_path):\n",
    "    with open(file_path, 'r') as f:\n",
    "        content = f.read().strip()\n",
    "        if content.startswith(\"Beak-to-Body Ratio:\"):\n",
    "            return float(content.split(\":\")[1].strip())\n",
    "    return None  \n",
    "\n",
    "def compute_median_ratios(ratio_dir):\n",
    "    bird_ratios = {}  \n",
    "    bird_counts = {} \n",
    "    for root, dirs, files in os.walk(ratio_dir):\n",
    "        for file in files:\n",
    "            if file.endswith('_ratio.txt'):\n",
    "                bird_species = root.split(os.path.sep)[-1]  \n",
    "                ratio_file_path = os.path.join(root, file)\n",
    "                ratio = read_ratio_from_file(ratio_file_path)\n",
    "                if ratio is not None:\n",
    "                    if bird_species not in bird_ratios:\n",
    "                        bird_ratios[bird_species] = []\n",
    "                        bird_counts[bird_species] = 0\n",
    "                    \n",
    "                    bird_ratios[bird_species].append(ratio)\n",
    "                    bird_counts[bird_species] += 1\n",
    "\n",
    "    bird_median_ratios = []\n",
    "    for species, ratios in bird_ratios.items():\n",
    "        median_ratio = np.median(ratios)\n",
    "        bird_median_ratios.append((species, median_ratio))\n",
    "\n",
    "    return bird_median_ratios\n",
    "\n",
    "def save_ratios_to_csv(bird_median_ratios, output_file):\n",
    "\n",
    "    with open(output_file, mode='w', newline='') as file:\n",
    "        writer = csv.writer(file)\n",
    "        writer.writerow(['bird_species', 'median_beak_to_body_ratio'])\n",
    "        for species, median_ratio in bird_median_ratios:\n",
    "            writer.writerow([species, median_ratio])\n",
    "    \n",
    "    print(f\"Median ratios saved to {output_file}\")\n",
    "\n",
    "ratio_dir = 'segmentations/ratios'\n",
    "bird_median_ratios = compute_median_ratios(ratio_dir)\n",
    "output_file = 'bird_beak_to_body_medians.csv'\n",
    "save_ratios_to_csv(bird_median_ratios, output_file)\n"
   ]
  },
  {
   "cell_type": "code",
   "execution_count": null,
   "metadata": {},
   "outputs": [],
   "source": []
  }
 ],
 "metadata": {
  "kernelspec": {
   "display_name": "myvenv",
   "language": "python",
   "name": "python3"
  },
  "language_info": {
   "codemirror_mode": {
    "name": "ipython",
    "version": 3
   },
   "file_extension": ".py",
   "mimetype": "text/x-python",
   "name": "python",
   "nbconvert_exporter": "python",
   "pygments_lexer": "ipython3",
   "version": "3.12.4"
  }
 },
 "nbformat": 4,
 "nbformat_minor": 2
}
